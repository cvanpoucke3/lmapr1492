{
 "cells": [
  {
   "cell_type": "markdown",
   "metadata": {},
   "source": [
    "## Import package + Téléchargement CIF"
   ]
  },
  {
   "cell_type": "code",
   "execution_count": 61,
   "metadata": {},
   "outputs": [],
   "source": [
    "from pymatgen.ext.matproj import MPRester\n",
    "from pymatgen.io.cif import CifWriter\n",
    "from pymatgen.symmetry.analyzer import *\n",
    "from pymatgen.io.cif import *\n",
    "from pymatgen.core.operations import *\n",
    "from tabulate import tabulate\n",
    "from pymatgen.symmetry.site_symmetries import *\n",
    "import matplotlib.pyplot as plt\n",
    "import matplotlib.image as mpimg"
   ]
  },
  {
   "cell_type": "code",
   "execution_count": 62,
   "metadata": {},
   "outputs": [],
   "source": [
    "#Création du fichier CIF symmetrized \n",
    "with MPRester(\"2zPo57HHJnOTqpLHp5c\") as m: \n",
    "        structure = m.get_structure_by_material_id(\"mp-9361\")\n",
    "        w=CifWriter(structure,symprec=0.1)\n",
    "        w.write_file(\"RbLaS2_symmetrized.cif\")\n",
    "        "
   ]
  },
  {
   "cell_type": "markdown",
   "metadata": {},
   "source": [
    " ## 1 ère opération de symétrie étudiée : rotation d'ordre 3 dans la direction [0,0,1]\n",
    "La première opération de symétrie étudiée est la rotation d'ordre 3 dans la direction [0,0,1] (opération 2 sur Jmol Crystal Symmetry Explorer pour le fichier cif correspondant à MoS2).\n",
    "\n",
    "Cette opération a pour but d'envoyer tout atome, initialement en position (x,y,z), sur une position (-y, x-y, z).\n",
    "Cela est réalisé via l'intermédiaire d'une matrice associée à la rotation et d'un vecteur associé à translation ( obtenus via les fonctions ci-dessous).Pour cette symétrie, nous obtenons la relation suivante:   \n",
    "\n",
    "$ \\begin{pmatrix} 0 & -1 & 0 \\\\ 1 & -1 & 0 \\\\ 0 & 0 & 1 \\end{pmatrix} \\cdot \\left(\\begin{array}{l}\n",
    "{x} \\\\\n",
    "{y} \\\\\n",
    "{z}\n",
    "\\end{array}\\right) = \\left(\\begin{array}{l}\n",
    "{-y} \\\\\n",
    "{x-y} \\\\\n",
    "{z}\n",
    "\\end{array}\\right) $\n",
    "\n",
    "\n",
    "Si nous appliquons cette opération de symétrie sur l'atome S1 #5 de coordonnées $ [0.67,0.33,0.59] $ ,alors cet atome est renvoyé sur les  coordonnées  :  $[-0.33 , 0.34 , 0.59]$. \n",
    "\n",
    "Ci-dessous, nous pouvons trouver une illustration de cette symétrie appliquée sur l'atome étudié. \n",
    "La flèche rouge illustrée sur le schéma correspond à l'axe de rotation d'ordre 3.\n",
    " \n"
   ]
  },
  {
   "cell_type": "code",
   "execution_count": 63,
   "metadata": {},
   "outputs": [
    {
     "name": "stdout",
     "output_type": "stream",
     "text": [
      "atome de départ S1 #5: \n",
      "[0.67,0.33,0.59]\n",
      "opération de symétrie : C3 axis (-y, x-y, z) \n",
      "La matrice de rotation de la symétrie étudiée est :\n",
      "[[ 0. -1.  0.]\n",
      " [ 1. -1.  0.]\n",
      " [ 0.  0.  1.]]\n",
      "Le vecteur de translation de la symétrie étudiée est:\n",
      "[0. 0. 0.]\n",
      "effet de la symétrie sur S1 #5:\n",
      "[-0.33  0.34  0.59]\n",
      "\n"
     ]
    }
   ],
   "source": [
    "print(\"atome de départ S1 #5: \")\n",
    "print(\"[0.67,0.33,0.59]\")\n",
    "\n",
    "print(\"opération de symétrie : C3 axis (-y, x-y, z) \" )\n",
    "Op1 = SymmOp.from_xyz_string('-y, x-y, z')\n",
    "print(\"La matrice de rotation de la symétrie étudiée est :\")\n",
    "print(Op1.rotation_matrix)\n",
    "print(\"Le vecteur de translation de la symétrie étudiée est:\")\n",
    "print(Op1.translation_vector)\n",
    "\n",
    "\n",
    "print (\"effet de la symétrie sur S1 #5:\")\n",
    "S1S =Op1.operate((0.67,0.33,0.59)) \n",
    "print(S1S)\n",
    "print(\"\")\n",
    "\n"
   ]
  },
  {
   "cell_type": "code",
   "execution_count": 64,
   "metadata": {},
   "outputs": [
    {
     "data": {
      "text/html": [
       "<img src = \"C3.PNG\",width=400,height=400>\n"
      ],
      "text/plain": [
       "<IPython.core.display.HTML object>"
      ]
     },
     "metadata": {},
     "output_type": "display_data"
    }
   ],
   "source": [
    "%%html\n",
    "<img src = \"C3.PNG\",width=400,height=400>"
   ]
  },
  {
   "cell_type": "markdown",
   "metadata": {},
   "source": [
    " ## 2 ème opération de symétrie étudiée : translation (x-1/3, y+1/3, z+1/3)\n",
    " \n",
    " La deuxième opération de symétrie étudiée est la translation  (x-1/3, y+1/3, z+1/3) (opération 7 sur Jmol Crystal Symmetry Explorer pour le fichier cif correspondant à MoS2).\n",
    "\n",
    "Cette opération a pour but d'envoyer tout atome, initialement en position (x,y,z), sur une position (x-1/3, y+1/3, z+1/3).\n",
    "Cela est réalisé via l'intermédiaire d'une matrice associée à la rotation et d'un vecteur associé à translation ( obtenus via les fonctions ci-dessous).Pour cette symétrie, nous obtenons la relation suivante:   \n",
    "\n",
    "$ \\begin{pmatrix} 1 & 0 & 0 \\\\ 0 & 1 & 0 \\\\ 0 & 0 & 1 \\end{pmatrix} \\cdot \\left(\\begin{array}{l}\n",
    "{x} \\\\\n",
    "{y} \\\\\n",
    "{z}\n",
    "\\end{array}\\right) + \\left(\\begin{array}{l}\n",
    "{-1/3} \\\\\n",
    "{1/3} \\\\\n",
    "{1/3}\n",
    "\\end{array}\\right) = \\left(\\begin{array}{l}\n",
    "{x-1/3} \\\\\n",
    "{y+1/3} \\\\\n",
    "{z+1/3}\n",
    "\\end{array}\\right) $\n",
    "\n",
    "\n",
    "Si nous appliquons cette opération de symétrie sur l'atome Mo0 #4 de coordonnées $ [0.67,0.33,0.33] $ ,alors cet atome est renvoyé sur les  coordonnées  :  $[0.3367,0.6633,0.6633]$. \n",
    "\n",
    "Ci-dessous, nous pouvons trouver une illustration de cette symétrie appliquée sur l'atome étudié. \n"
   ]
  },
  {
   "cell_type": "code",
   "execution_count": 65,
   "metadata": {},
   "outputs": [
    {
     "name": "stdout",
     "output_type": "stream",
     "text": [
      "atome de départ Mo0 #4: \n",
      "[0.67,0.33,0.33]\n",
      "opération de symétrie : translation (x-1/3, y+1/3, z+1/3) \n",
      "La matrice de transformation de la symétrie étudiée est :\n",
      "[[1. 0. 0.]\n",
      " [0. 1. 0.]\n",
      " [0. 0. 1.]]\n",
      "Le vecteur de translation de la symétrie étudiée est:\n",
      "[-0.33333333  0.33333333  0.33333333]\n",
      "effet de la symétrie sur S1 #5:\n",
      "[0.33666667 0.66333333 0.66333333]\n"
     ]
    }
   ],
   "source": [
    "print(\"atome de départ Mo0 #4: \")\n",
    "print(\"[0.67,0.33,0.33]\")\n",
    "\n",
    "print(\"opération de symétrie : translation (x-1/3, y+1/3, z+1/3) \" )\n",
    "Op2 = SymmOp.from_xyz_string('x-1/3, y+1/3, z+1/3')\n",
    "print(\"La matrice de transformation de la symétrie étudiée est :\")\n",
    "print(Op2.rotation_matrix)\n",
    "print(\"Le vecteur de translation de la symétrie étudiée est:\")\n",
    "print(Op2.translation_vector)\n",
    "\n",
    "print (\"effet de la symétrie sur S1 #5:\")\n",
    "Mo0S =Op2.operate((0.67,0.33,0.33)) \n",
    "print(Mo0S)"
   ]
  },
  {
   "cell_type": "code",
   "execution_count": 66,
   "metadata": {},
   "outputs": [
    {
     "data": {
      "text/html": [
       "<img src = \"translation.PNG\",width=400,height=400>\n"
      ],
      "text/plain": [
       "<IPython.core.display.HTML object>"
      ]
     },
     "metadata": {},
     "output_type": "display_data"
    }
   ],
   "source": [
    "\n",
    "\n",
    "%%html\n",
    "<img src = \"translation.PNG\",width=400,height=400>"
   ]
  },
  {
   "cell_type": "markdown",
   "metadata": {},
   "source": [
    "## 3  ème opération de symétrie étudiée : Rotation hélicoïdale $3_{1}$ (-y-1/3, x-y+1/3,z+1/3)\n",
    "\n",
    "\n",
    "La troisième opération de symétrie étudiée est une rotation hélicoïdale $3_{1}$ (-y-1/3, x-y+1/3,z+1/3) (opération 8 sur Jmol Crystal Symmetry Explorer pour le fichier cif correspondant à MoS2).Son axe hélicoïdal est selon la direction [0,0,1].\n",
    "La symétrie consiste en une rotation de $2\\pi/3$ ainsi que d'une translation qui va se faire parallèlement à cet axe hélicoïdal et qui vaudra 1/3 du vecteur de base $\\textbf{c}$.\n",
    "\n",
    "Cette opération a pour but d'envoyer tout atome, initialement en postion (x,y,z), sur une position (-y-1/3, x-y+1/3,z+1/3).\n",
    "Cela est réalisé via l'intermédiaire d'une matrice associée à la rotation et d'un vecteur associé à translation ( obtenus via les fonctions ci-dessous).Pour cette symétrie, nous obtenons la relation suivante:   \n",
    "\n",
    "$ \\begin{pmatrix} 0 & -1 & 0 \\\\ 1 & -1 & 0 \\\\ 0 & 0 & 1 \\end{pmatrix} \\cdot \\left(\\begin{array}{l}\n",
    "{x} \\\\\n",
    "{y} \\\\\n",
    "{z}\n",
    "\\end{array}\\right) + \\left(\\begin{array}{l}\n",
    "{-1/3} \\\\\n",
    "{1/3} \\\\\n",
    "{1/3}\n",
    "\\end{array}\\right) = \\left(\\begin{array}{l}\n",
    "{-y-1/3} \\\\\n",
    "{x-y+1/3} \\\\\n",
    "{z+1/3}\n",
    "\\end{array}\\right) $\n",
    "\n",
    "\n",
    "Si nous appliquons cette opération de symétrie sur l'atome Mo0 #1 de coordonnées $ [0.00,0.00,0.00] $ ,alors cet atome est renvoyé sur les  coordonnées  :  $[-0.3333,0.3333,0.3333]$. \n",
    "\n",
    "Ci-dessous, nous pouvons trouver une illustration de cette symétrie appliquée sur l'atome étudié."
   ]
  },
  {
   "cell_type": "code",
   "execution_count": 67,
   "metadata": {},
   "outputs": [
    {
     "name": "stdout",
     "output_type": "stream",
     "text": [
      "atome de départ Mo0 #1: \n",
      "[0.00,0.00,0.00]\n",
      "opération de symétrie : 3-fold screw axis (-y-1/3, x-y+1/3,z+1/3) \n",
      "La matrice de transformation de la symétrie étudiée est :\n",
      "[[ 0. -1.  0.]\n",
      " [ 1. -1.  0.]\n",
      " [ 0.  0.  1.]]\n",
      "Le vecteur de translation de la symétrie étudiée est:\n",
      "[-0.33333333  0.33333333  0.33333333]\n",
      "effet de la symétrie sur Mo0 #1:\n",
      "[-0.33333333  0.33333333  0.33333333]\n"
     ]
    }
   ],
   "source": [
    "print(\"atome de départ Mo0 #1: \")\n",
    "print(\"[0.00,0.00,0.00]\")\n",
    "\n",
    "print(\"opération de symétrie : 3-fold screw axis (-y-1/3, x-y+1/3,z+1/3) \" )\n",
    "Op3 = SymmOp.from_xyz_string('-y-1/3, x-y+1/3,z+1/3')\n",
    "print(\"La matrice de transformation de la symétrie étudiée est :\")\n",
    "print(Op3.rotation_matrix)\n",
    "print(\"Le vecteur de translation de la symétrie étudiée est:\")\n",
    "print(Op3.translation_vector)\n",
    "\n",
    "print (\"effet de la symétrie sur Mo0 #1:\")\n",
    "Mo0Sym =Op2.operate((0.00,0.00,0.00)) \n",
    "print(Mo0Sym)"
   ]
  },
  {
   "cell_type": "code",
   "execution_count": 68,
   "metadata": {},
   "outputs": [
    {
     "data": {
      "text/html": [
       "<img src = \"screw.PNG\",width=400,height=400>\n"
      ],
      "text/plain": [
       "<IPython.core.display.HTML object>"
      ]
     },
     "metadata": {},
     "output_type": "display_data"
    }
   ],
   "source": [
    "%%html\n",
    "<img src = \"screw.PNG\",width=400,height=400>"
   ]
  },
  {
   "cell_type": "markdown",
   "metadata": {},
   "source": [
    "## Sources \n",
    "Les données fournies concernant l'étude du cristal MoS2 sont obtenues via le site Materials Project.\n",
    "https://materialsproject.org/\n",
    "\n",
    "Les images illustrées sont obtenues via : Jmol crystal symmetry explorer.\n",
    "https://www.pslc.ws/jsmol/jcse/explore.htm\n"
   ]
  }
 ],
 "metadata": {
  "kernelspec": {
   "display_name": "Python 3",
   "language": "python",
   "name": "python3"
  },
  "language_info": {
   "codemirror_mode": {
    "name": "ipython",
    "version": 3
   },
   "file_extension": ".py",
   "mimetype": "text/x-python",
   "name": "python",
   "nbconvert_exporter": "python",
   "pygments_lexer": "ipython3",
   "version": "3.6.8"
  }
 },
 "nbformat": 4,
 "nbformat_minor": 2
}
