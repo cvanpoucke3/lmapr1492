{
 "cells": [
  {
   "cell_type": "markdown",
   "metadata": {},
   "source": [
    "## Téléchargement du cif de MoS2\n"
   ]
  },
  {
   "cell_type": "code",
   "execution_count": 123,
   "metadata": {},
   "outputs": [],
   "source": [
    "#Création du fichier CIF symmetrized \n",
    "from pymatgen.ext.matproj import MPRester\n",
    "from pymatgen.io.cif import CifWriter\n",
    "with MPRester(\"2zPo57HHJnOTqpLHp5c\") as m: \n",
    "        structure = m.get_structure_by_material_id(\"mp-1434\")\n",
    "        w=CifWriter(structure,symprec=0.1)\n",
    "        w.write_file(\"MoS2_symmetrized.cif\")\n",
    "        #structure.to(filename=\"MoS2.cif\")"
   ]
  },
  {
   "cell_type": "markdown",
   "metadata": {},
   "source": [
    "Fonction reçue par le prof permettant d'obtenir des longueurs égales ( a=b=c) et des angles égaux (α=β=γ) pour palir  à un problème sur MaterialProject.  \n",
    "Grâce à cela on obtient que:\n",
    "\n",
    "$L_{a} = L_{b} = L_{c} =  6.856050Å $\n",
    "\n",
    "α = β = γ =26.935562 ◦\n"
   ]
  },
  {
   "cell_type": "code",
   "execution_count": 124,
   "metadata": {},
   "outputs": [
    {
     "name": "stdout",
     "output_type": "stream",
     "text": [
      "Full Formula (Mo1 S2)\n",
      "Reduced Formula: MoS2\n",
      "abc   :   6.856050   6.856050   6.856050\n",
      "angles:  26.935562  26.935562  26.935562\n",
      "Sites (3)\n",
      "  #  SP           a         b         c\n",
      "---  ----  --------  --------  --------\n",
      "  0  Mo    6.6e-05   6.6e-05   6.6e-05\n",
      "  1  S     0.254235  0.254235  0.254235\n",
      "  2  S     0.412517  0.412517  0.412517\n"
     ]
    }
   ],
   "source": [
    "from pymatgen.symmetry.analyzer import SpacegroupAnalyzer\n",
    "news=SpacegroupAnalyzer(structure).get_primitive_standard_structure()\n",
    "print(news)"
   ]
  },
  {
   "cell_type": "markdown",
   "metadata": {},
   "source": [
    "## Fonction permettant de déterminer le systeme cristallin.\n",
    "Le système cristallin du cristal MoS2 est un système trigonal."
   ]
  },
  {
   "cell_type": "code",
   "execution_count": null,
   "metadata": {},
   "outputs": [],
   "source": [
    "print(  SpacegroupAnalyzer(news).get_crystal_system())"
   ]
  },
  {
   "attachments": {},
   "cell_type": "markdown",
   "metadata": {},
   "source": [
    "## Fonction permettant de déterminer le type de maille \n",
    "Le type de maille du cristal MoS2 est une  maille rhomboédrique."
   ]
  },
  {
   "cell_type": "code",
   "execution_count": null,
   "metadata": {},
   "outputs": [],
   "source": [
    "print (SpacegroupAnalyzer(news).get_lattice_type())"
   ]
  },
  {
   "cell_type": "markdown",
   "metadata": {},
   "source": [
    "## Fonction renvoyant  les vecteurs de base du réseau direct\n",
    "Cette fonction spécifique pour les mailles rhomboédriques prend en argument les longueurs a,b,c et les angles α=β=γ  et renvoie les vecteurs de base du réseau direct. \n",
    "Les vecteurs de base dans le réseau direct peuvent s'écrire : \n",
    "\n",
    "$\\vec{a}=(3.310570926  ,  0 ,   6.11228183)$\n",
    "\n",
    "$\\vec{b}=(1.46379432  ,  2.7391123  ,  6.11228183)$\n",
    "\n",
    "$\\vec{c}=(0  ,  0  ,  6.85604982)$ \n",
    "\n",
    "Si l'on pose L=6.856050 Å, on peut réecrire les vecteurs tel que : \n",
    "\n",
    "$\\vec{a}=L(0.482865506 , 0 , 0.891516519) $\n",
    "\n",
    "$\\vec{b}=L(0.2135040322, 0.3995175502, 0.891516519)$\n",
    "\n",
    "$\\vec{c}=L(0,0,1)$"
   ]
  },
  {
   "cell_type": "code",
   "execution_count": null,
   "metadata": {
    "scrolled": true
   },
   "outputs": [],
   "source": [
    "from pymatgen.symmetry.analyzer import SpacegroupAnalyzer\n",
    "p=news.lattice.a\n",
    "q=news.lattice.alpha\n",
    "print(SpacegroupAnalyzer(news).find_primitive().lattice.rhombohedral(p,q).matrix)"
   ]
  },
  {
   "cell_type": "markdown",
   "metadata": {},
   "source": [
    "## Fonction renvoyant les vecteurs de base du réseau réciproque\n",
    "Cette fonction assez similaire à la fonction précédente mais renvoie cependant les vecteurs de base du réseau réciproque. \n",
    "Les vecteurs de base dans le réseau réciproque peuvent s'écrire : \n",
    "\n",
    "$\\vec{a}^{ *}=( 2.02310802 ,  -1.08115832 ,  0)$\n",
    "\n",
    "$\\vec{b}^{ *}=(0  ,   2.29387649  ,  0)$\n",
    "\n",
    "$\\vec{c}^{ *}=(-1.80363427  ,  -1.08115832  ,  0.91644394)$ \n",
    "\n",
    "Si l'on pose $L^{*}$= 2.29387649 Å, on peut réecrire les vecteurs tel que :\n",
    "\n",
    "$\\vec{a}^{*}=L^{*}(0.881960308 , -0.4713236849 , 0) $\n",
    "\n",
    "$\\vec{b}^{*}=L^{*}(0, 1, 0)$\n",
    "\n",
    "$\\vec{c}^{*}=L^{*}(-0.7862822074,0.4713236849,0.3995175608)$"
   ]
  },
  {
   "cell_type": "code",
   "execution_count": null,
   "metadata": {},
   "outputs": [],
   "source": [
    "print(SpacegroupAnalyzer(structure).find_primitive().lattice.rhombohedral(p,q).reciprocal_lattice.matrix)"
   ]
  },
  {
   "cell_type": "markdown",
   "metadata": {},
   "source": [
    "## Fonction renvoyant le groupe ponctuel et son groupe d'espace\n",
    "Le groupe ponctuel de MoS2 est 3m et son groupe d'espace est R3m."
   ]
  },
  {
   "cell_type": "code",
   "execution_count": null,
   "metadata": {},
   "outputs": [],
   "source": [
    "print (SpacegroupAnalyzer(news).get_point_group_symbol())\n",
    "print(SpacegroupAnalyzer(news).get_space_group_symbol())"
   ]
  }
 ],
 "metadata": {
  "kernelspec": {
   "display_name": "Python 3",
   "language": "python",
   "name": "python3"
  },
  "language_info": {
   "codemirror_mode": {
    "name": "ipython",
    "version": 3
   },
   "file_extension": ".py",
   "mimetype": "text/x-python",
   "name": "python",
   "nbconvert_exporter": "python",
   "pygments_lexer": "ipython3",
   "version": "3.6.8"
  }
 },
 "nbformat": 4,
 "nbformat_minor": 2
}
