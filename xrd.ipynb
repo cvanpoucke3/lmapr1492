{
 "cells": [
  {
   "cell_type": "markdown",
   "metadata": {},
   "source": [
    "## Import package + Téléchargement CIF"
   ]
  },
  {
   "cell_type": "code",
   "execution_count": 77,
   "metadata": {},
   "outputs": [],
   "source": [
    "from pymatgen.ext.matproj import MPRester\n",
    "from pymatgen.io.cif import CifWriter\n",
    "from pymatgen.symmetry.analyzer import *\n",
    "from pymatgen.io.cif import *\n",
    "from pymatgen.core.operations import *\n",
    "from tabulate import tabulate\n",
    "from pymatgen.symmetry.site_symmetries import *\n",
    "import matplotlib.pyplot as plt\n",
    "import matplotlib.image as mpimg\n",
    "from pymatgen.analysis.diffraction.xrd import XRDCalculator\n",
    "from pymatgen.analysis.diffraction.core import AbstractDiffractionPatternCalculator"
   ]
  },
  {
   "cell_type": "code",
   "execution_count": 78,
   "metadata": {},
   "outputs": [],
   "source": [
    "#Création du fichier CIF symmetrized \n",
    "with MPRester(\"2zPo57HHJnOTqpLHp5c\") as m: \n",
    "        structure = m.get_structure_by_material_id(\"mp-1434\")\n",
    "        w=CifWriter(structure,symprec=0.1)\n",
    "        w.write_file(\"MoS2_symmetrized.cif\")"
   ]
  },
  {
   "cell_type": "markdown",
   "metadata": {},
   "source": [
    "Pour rappel, un cristal est un ensemble de plans. Ces derniers sont séparés par une distance $d_{hkl}$ qui correspond à la distance inter-planaire pour la famille de plans (hkl).\n",
    "\n",
    "Ce notebook aura pour but l'étude du rayonnement X incident Cu Kα de longueur d’onde λ=1.54060 Å envoyé sur un cristal: MoS2 . Une  figure de diffraction  va être crée avec des interférences constructives et des interférences destructives. Les pics illustrés sur le diffractrogramme ci-dessous, correspondent à des interférences constructives dont les intensités sont mises à l'échelle de telle manière à ce que l'intensité maximale vaille 100.\n",
    "La position de ces pics , d'après la loi de Bragg, est donnée par la relation suivante : $n \\lambda = 2d_{hkl} \\sin \\theta$  où $\\theta $ correspond à l'ange de diffraction.  \n",
    "\n",
    "Nous étudierons dans la suite de ce notebook les 3 premiers pics significatifs du diffractogramme. Lorsque 2$\\theta$=27°, nous voyons une légère interférence µ constructive d'une valeur d'intensité mise à l'échelle de 1.62 que nous ne considérerons pas comme un pic vu les intensités largement supérieures des pics avoisinants."
   ]
  },
  {
   "cell_type": "code",
   "execution_count": 79,
   "metadata": {},
   "outputs": [
    {
     "data": {
      "image/png": "[encoded data removed]",
      "text/plain": [
       "<Figure size 1080x360 with 1 Axes>"
      ]
     },
     "metadata": {
      "needs_background": "light"
     },
     "output_type": "display_data"
    }
   ],
   "source": [
    "H = XRDCalculator().get_pattern(structure, scaled=True, two_theta_range=None)\n",
    "plt.figure(figsize=(15,5))\n",
    "plt.bar(H.x,H.y)\n",
    "plt.xlabel(r\"2$\\theta$ (°)\")\n",
    "plt.ylabel(r\"Intensité (scaled)\")\n",
    "plt.title(r\"Diffractogramme pour un rayonnement incident de CuK$\\alpha$ sur MoS2\")\n",
    "plt.show()"
   ]
  },
  {
   "cell_type": "markdown",
   "metadata": {},
   "source": [
    "## Premier pic"
   ]
  },
  {
   "cell_type": "code",
   "execution_count": 80,
   "metadata": {},
   "outputs": [
    {
     "name": "stdout",
     "output_type": "stream",
     "text": [
      "angle 2θ(°) : 13.408525283429551\n",
      "Intensité réelle :  33283.525336063074\n",
      "Intensité obtenue sur le graphe (réduite à l'échelle):  1.6219823634474593\n",
      "Indices de Miller  :  [{'hkl': (0, 0, 1), 'multiplicity': 2}]\n",
      "Distance interplanaire  :  6.603473132504687\n"
     ]
    }
   ],
   "source": [
    "H = XRDCalculator().get_pattern(structure, scaled=False, two_theta_range=None)\n",
    "D=XRDCalculator().get_pattern(structure, scaled=True, two_theta_range=None)\n",
    "print(\"angle 2\\u03B8(\\u00b0) :\",H.x[0])\n",
    "print(\"Intensité réelle : \", H.y[1])\n",
    "print(\"Intensité obtenue sur le graphe (réduite à l'échelle): \", D.y[1])\n",
    "print(\"Indices de Miller  : \", H.hkls[0])\n",
    "print(\"Distance interplanaire  : \",  H.d_hkls[0])"
   ]
  },
  {
   "cell_type": "markdown",
   "metadata": {},
   "source": [
    "## Deuxième pic"
   ]
  },
  {
   "cell_type": "code",
   "execution_count": 81,
   "metadata": {
    "scrolled": false
   },
   "outputs": [
    {
     "name": "stdout",
     "output_type": "stream",
     "text": [
      "angle 2θ(°) : 32.6935060651101\n",
      "Intensité réelle:  318465.9830309268\n",
      "Intensité obtenue sur le graphe (réduite à l'échelle):  15.51957620530171\n",
      "Indices de Miller  :  [{'hkl': (1, 1, 0), 'multiplicity': 2}, {'hkl': (1, -1, 1), 'multiplicity': 2}]\n",
      "Distance interplanaire :  2.7391029221480423\n"
     ]
    }
   ],
   "source": [
    "H = XRDCalculator().get_pattern(structure, scaled=False, two_theta_range=None)\n",
    "D=XRDCalculator().get_pattern(structure, scaled=True, two_theta_range=None)\n",
    "print(\"angle 2\\u03B8(\\u00b0) :\",H.x[2])\n",
    "print(\"Intensité réelle: \", H.y[2])\n",
    "print(\"Intensité obtenue sur le graphe (réduite à l'échelle): \", D.y[2])\n",
    "print(\"Indices de Miller  : \", H.hkls[2])\n",
    "print(\"Distance interplanaire : \",  H.d_hkls[2])"
   ]
  },
  {
   "cell_type": "markdown",
   "metadata": {},
   "source": [
    "## Troisième pic \n",
    "Ce pic ayant une très grande proximité avec le pic précédent et ayant une intensité inférieure, il n'est désormais pas visible sur le graphe. "
   ]
  },
  {
   "cell_type": "code",
   "execution_count": 82,
   "metadata": {},
   "outputs": [
    {
     "name": "stdout",
     "output_type": "stream",
     "text": [
      "angle 2θ(°) : 32.69768352304585\n",
      "Intensité réelle :  159336.0147029988\n",
      "Intensité obtenue sur le graphe (réduite à l'échelle): :  7.764808658361867\n",
      "Indices de Miller  :  [{'hkl': (0, 2, 0), 'multiplicity': 2}]\n",
      "Distance interplanaire :  2.7387625218710174\n"
     ]
    }
   ],
   "source": [
    "H = XRDCalculator().get_pattern(structure, scaled=False, two_theta_range=None)\n",
    "D=XRDCalculator().get_pattern(structure, scaled=True, two_theta_range=None)\n",
    "print(\"angle 2\\u03B8(\\u00b0) :\",H.x[3])\n",
    "print(\"Intensité réelle : \", H.y[3])\n",
    "print(\"Intensité obtenue sur le graphe (réduite à l'échelle): : \", D.y[3])\n",
    "print(\"Indices de Miller  : \", H.hkls[3])\n",
    "print(\"Distance interplanaire : \",  H.d_hkls[3])"
   ]
  },
  {
   "cell_type": "markdown",
   "metadata": {},
   "source": [
    "## Sources\n",
    "[1] « Materials Project » [online] : https://materialsproject.org/.\n",
    "\n",
    "[2] «pymatgen.analysis.diffraction.xrd module »[online] :https://pymatgen.org/pymatgen.analysis.diffraction.xrd.html"
   ]
  }
 ],
 "metadata": {
  "kernelspec": {
   "display_name": "Python 3",
   "language": "python",
   "name": "python3"
  },
  "language_info": {
   "codemirror_mode": {
    "name": "ipython",
    "version": 3
   },
   "file_extension": ".py",
   "mimetype": "text/x-python",
   "name": "python",
   "nbconvert_exporter": "python",
   "pygments_lexer": "ipython3",
   "version": "3.6.8"
  }
 },
 "nbformat": 4,
 "nbformat_minor": 2
}
