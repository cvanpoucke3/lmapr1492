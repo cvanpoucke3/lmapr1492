{
 "cells": [
  {
   "cell_type": "markdown",
   "metadata": {},
   "source": [
    "## Import package + Téléchargement CIF"
   ]
  },
  {
   "cell_type": "code",
   "execution_count": null,
   "metadata": {},
   "outputs": [],
   "source": [
    "from pymatgen.ext.matproj import MPRester\n",
    "from pymatgen.io.cif import CifWriter\n",
    "from pymatgen.symmetry.analyzer import *\n",
    "from pymatgen.io.cif import *\n",
    "from pymatgen.core.operations import *\n",
    "from tabulate import tabulate\n",
    "from pymatgen.symmetry.site_symmetries import *\n",
    "import matplotlib.pyplot as plt\n",
    "import matplotlib.image as mpimg\n",
    "from pymatgen.analysis.diffraction.xrd import XRDCalculator"
   ]
  },
  {
   "cell_type": "code",
   "execution_count": null,
   "metadata": {},
   "outputs": [],
   "source": [
    "#Création du fichier CIF symmetrized \n",
    "with MPRester(\"2zPo57HHJnOTqpLHp5c\") as m: \n",
    "        structure = m.get_structure_by_material_id(\"mp-1434\")\n",
    "        w=CifWriter(structure,symprec=0.1)\n",
    "        w.write_file(\"MoS2_symmetrized.cif\")"
   ]
  },
  {
   "cell_type": "markdown",
   "metadata": {},
   "source": [
    "Pour rappel, un cristal est un ensemble de plans. Ces derniers sont séparés par une distance $d_{hkl}$ qui correspond à la distance inter-planaire pour la famille de plans (hkl).\n",
    "\n",
    "Ce notebook aura pour but l'étude du rayonnement X incident Cu Kα de longueur d’onde λ=1.54060 Å envoyé sur un cristal: MoS2 . Une  figure de diffraction  va être crée avec des interférences constructives et des interférences destructives. Les pics illustrés sur le diffractrogramme ci-dessous, correspondent à des interférences constructives dont les intensités sont mises à l'échelle de telle manière à ce que l'intensité maximale vaille 100.\n",
    "La position de ces pics , d'après la loi de Bragg, est donnée par la relation suivante : $n \\lambda = 2d_{hkl} \\sin \\theta$  où $\\theta $ correspond à l'ange de diffraction.  \n",
    "\n",
    "Nous étudierons dans la suite de ce notebook les 3 premiers pics significatifs du diffractogramme. Lorsque 2$\\theta$=27°, nous voyons une légère interférence constructive d'une valeur d'intensité mise à l'échelle de 1.62 que nous ne considérerons pas comme un pic vu les intensités largement supérieures des pics avoisinants."
   ]
  },
  {
   "cell_type": "code",
   "execution_count": null,
   "metadata": {
    "scrolled": true
   },
   "outputs": [],
   "source": [
    "H = XRDCalculator().get_pattern(structure, scaled=True, two_theta_range=None)\n",
    "plt.figure(figsize=(15,5))\n",
    "plt.bar(H.x,H.y)\n",
    "plt.xlabel(r\"2$\\theta$ (°)\")\n",
    "plt.ylabel(r\"Intensité (scaled)\")\n",
    "plt.title(r\"Diffractogramme pour un rayonnement incident de CuK$\\alpha$ sur MoS2\")\n",
    "plt.show()"
   ]
  },
  {
   "cell_type": "markdown",
   "metadata": {},
   "source": [
    "## Premier pic"
   ]
  },
  {
   "cell_type": "code",
   "execution_count": null,
   "metadata": {},
   "outputs": [],
   "source": [
    "H = XRDCalculator().get_pattern(structure, scaled=False, two_theta_range=None)\n",
    "D=XRDCalculator().get_pattern(structure, scaled=True, two_theta_range=None)\n",
    "print(\"angle 2\\u03B8(\\u00b0) :\",H.x[0])\n",
    "print(\"Intensité réelle : \", H.y[0])\n",
    "print(\"Intensité obtenue sur le graphe (réduite à l'échelle): \", D.y[0])\n",
    "print(\"Indices de Miller  : \", H.hkls[0])\n",
    "print(\"Distance interplanaire  : \",  H.d_hkls[0])"
   ]
  },
  {
   "cell_type": "markdown",
   "metadata": {},
   "source": [
    "## Deuxième pic"
   ]
  },
  {
   "cell_type": "code",
   "execution_count": null,
   "metadata": {
    "scrolled": false
   },
   "outputs": [],
   "source": [
    "H = XRDCalculator().get_pattern(structure, scaled=False, two_theta_range=None)\n",
    "D=XRDCalculator().get_pattern(structure, scaled=True, two_theta_range=None)\n",
    "print(\"angle 2\\u03B8(\\u00b0) :\",H.x[2])\n",
    "print(\"Intensité réelle: \", H.y[2])\n",
    "print(\"Intensité obtenue sur le graphe (réduite à l'échelle): \", D.y[2])\n",
    "print(\"Indices de Miller  : \", H.hkls[2])\n",
    "print(\"Distance interplanaire : \",  H.d_hkls[2])"
   ]
  },
  {
   "cell_type": "markdown",
   "metadata": {},
   "source": [
    "## Troisième pic \n",
    "Ce pic ayant une très grande proximité avec le pic précédent et ayant une intensité inférieure, il n'est désormais pas visible sur le graphe. "
   ]
  },
  {
   "cell_type": "code",
   "execution_count": null,
   "metadata": {},
   "outputs": [],
   "source": [
    "H = XRDCalculator().get_pattern(structure, scaled=False, two_theta_range=None)\n",
    "D=XRDCalculator().get_pattern(structure, scaled=True, two_theta_range=None)\n",
    "print(\"angle 2\\u03B8(\\u00b0) :\",H.x[3])\n",
    "print(\"Intensité réelle : \", H.y[3])\n",
    "print(\"Intensité obtenue sur le graphe (réduite à l'échelle): : \", D.y[3])\n",
    "print(\"Indices de Miller  : \", H.hkls[3])\n",
    "print(\"Distance interplanaire : \",  H.d_hkls[3])"
   ]
  },
  {
   "cell_type": "code",
   "execution_count": null,
   "metadata": {},
   "outputs": [],
   "source": [
    "print(\"Les 3 premiers pics significatifs du diffractogramme avec leur incides de miller associés. Le 2ème et 3ème pics étant confondus car valeurs de 2thetas proches.\")\n",
    "x= XRDCalculator()\n",
    "x.show_plot(structure,two_theta_range=(10,33),annotate_peaks=True,ax=None,with_labels=True)\n"
   ]
  },
  {
   "cell_type": "markdown",
   "metadata": {},
   "source": [
    "## Sources\n",
    "[1] « Materials Project » [online] : https://materialsproject.org/.\n",
    "\n",
    "[2] «pymatgen.analysis.diffraction.xrd module »[online] :https://pymatgen.org/pymatgen.analysis.diffraction.xrd.html"
   ]
  }
 ],
 "metadata": {
  "kernelspec": {
   "display_name": "Python 3",
   "language": "python",
   "name": "python3"
  },
  "language_info": {
   "codemirror_mode": {
    "name": "ipython",
    "version": 3
   },
   "file_extension": ".py",
   "mimetype": "text/x-python",
   "name": "python",
   "nbconvert_exporter": "python",
   "pygments_lexer": "ipython3",
   "version": "3.6.8"
  }
 },
 "nbformat": 4,
 "nbformat_minor": 2
}
